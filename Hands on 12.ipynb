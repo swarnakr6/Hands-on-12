{
 "cells": [
  {
   "cell_type": "code",
   "execution_count": null,
   "id": "856e0070",
   "metadata": {},
   "outputs": [],
   "source": [
    " Implement a dynamic array (that is a C++ vector) using C style arrays"
   ]
  },
  {
   "cell_type": "code",
   "execution_count": 2,
   "id": "2f108214",
   "metadata": {},
   "outputs": [
    {
     "name": "stdout",
     "output_type": "stream",
     "text": [
      "Array length: 3\n",
      "Array elements:\n",
      "1\n",
      "2\n",
      "3\n",
      "Popping last element: 3\n",
      "Array length after popping: 2\n"
     ]
    }
   ],
   "source": [
    "import ctypes\n",
    "\n",
    "class DynamicArray:\n",
    "    def __init__(self):\n",
    "        self.capacity = 1\n",
    "        self.size = 0\n",
    "        self.arr = self.create_array(self.capacity)\n",
    "        \n",
    "    def create_array(self, capacity):\n",
    "        return (capacity * ctypes.c_int)()\n",
    "        \n",
    "    def resize(self, new_capacity):\n",
    "        new_arr = self.create_array(new_capacity)\n",
    "        for i in range(self.size):\n",
    "            new_arr[i] = self.arr[i]\n",
    "        self.arr = new_arr\n",
    "        self.capacity = new_capacity\n",
    "        \n",
    "    def push_back(self, val):\n",
    "        if self.size == self.capacity:\n",
    "            self.resize(2 * self.capacity)\n",
    "        self.arr[self.size] = val\n",
    "        self.size += 1\n",
    "        \n",
    "    def pop_back(self):\n",
    "        if self.size == 0:\n",
    "            raise IndexError(\"pop from empty array\")\n",
    "        self.size -= 1\n",
    "        if self.size < self.capacity // 4:\n",
    "            self.resize(self.capacity // 2)\n",
    "        return self.arr[self.size]\n",
    "\n",
    "    def __getitem__(self, index):\n",
    "        if index < 0 or index >= self.size:\n",
    "            raise IndexError(\"index out of range\")\n",
    "        return self.arr[index]\n",
    "        \n",
    "    def __len__(self):\n",
    "        return self.size\n",
    "\n",
    "# Example usage:\n",
    "arr = DynamicArray()\n",
    "arr.push_back(1)\n",
    "arr.push_back(2)\n",
    "arr.push_back(3)\n",
    "print(\"Array length:\", len(arr))\n",
    "print(\"Array elements:\")\n",
    "for i in range(len(arr)):\n",
    "    print(arr[i])\n",
    "print(\"Popping last element:\", arr.pop_back())\n",
    "print(\"Array length after popping:\", len(arr))\n"
   ]
  },
  {
   "cell_type": "code",
   "execution_count": null,
   "id": "44892603",
   "metadata": {},
   "outputs": [],
   "source": []
  }
 ],
 "metadata": {
  "kernelspec": {
   "display_name": "Python 3 (ipykernel)",
   "language": "python",
   "name": "python3"
  },
  "language_info": {
   "codemirror_mode": {
    "name": "ipython",
    "version": 3
   },
   "file_extension": ".py",
   "mimetype": "text/x-python",
   "name": "python",
   "nbconvert_exporter": "python",
   "pygments_lexer": "ipython3",
   "version": "3.10.9"
  }
 },
 "nbformat": 4,
 "nbformat_minor": 5
}
